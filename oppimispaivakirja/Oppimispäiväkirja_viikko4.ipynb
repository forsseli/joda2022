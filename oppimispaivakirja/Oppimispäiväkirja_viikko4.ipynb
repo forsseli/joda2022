{
 "cells": [
  {
   "cell_type": "markdown",
   "id": "5fb50858",
   "metadata": {},
   "source": [
    "# Viikko "
   ]
  },
  {
   "cell_type": "markdown",
   "id": "92caa1ee",
   "metadata": {},
   "source": [
    "## Osallistuminen opetukseen"
   ]
  },
  {
   "cell_type": "markdown",
   "id": "38ef3efb",
   "metadata": {},
   "source": [
    "Tällä viikolla osallistuin keskiviikon oppimistapahtumaan. Perjantaina oli töissä, joten koodiklinikan katsoin jälkikäteen tallenteena. Tutustuin myös viikon esilukemistoon, joka oli tällä kertaa esimerkkianalyysi harjoitustyötä varten. Ihan kaikkea en esimerkkianalyysistä vielä tässä vaiheessa ymmärtänyt, mutta tajusin, mitä siinä pääpiirteittäin tehtiin."
   ]
  },
  {
   "cell_type": "markdown",
   "id": "66c2316a",
   "metadata": {},
   "source": [
    "## Luentoviikon keskeiset asiat"
   ]
  },
  {
   "cell_type": "markdown",
   "id": "8832ca81",
   "metadata": {},
   "source": [
    "Tällä viikolla luennolla käytiin läpi harjoitustyötä. Oikeastaan suurin osa luennosta käytettiin pohtiessa mahdollisia aiheita, joista harjoitustyön voisi tehdä. Suurin osa keksityistä aiheista liittyi malliesimerkkiin, sillä ne käsittelivät Airbnb:tä. Keksittyjä aiheita jatkokehitettiin muun muassa aihekuvauspohjien avulla. Pohjia täyttäessä huomasi, miten oli jopa yllättävän haastavaa keksiä, kenen ongelmia keksityt aiheet käsittelivät. Luennolla painotettiinkin paljon, miten jokaisen datatiedeprojektin tulisi lähteä ongelmasta eikä niinkään saatavilla olevasta datasetistä. Minulle onkin opintojen aikana tullut sellainen kuva, että esimerkiksi liiketoimintaympäristö ja organisaatio tulee tuntea erittäin hyvin ennen, kuin voi ruveta miettimään mahdollisia ongelmia. Vasta ongelmien löytämisen jälkeen tulee sitten miettiä, minkälaisia datasettejä tulisi etsiä/hankkia ongelman ratkaisemiseksi. Luennon esitysmateriaalissa olikin mainittu esimerkiksi CRISP-DM malli, jonka vaiheet ovat liiketoiminnan ymmärtäminen, datan ymmärtäminen, datan valmistelu, mallintaminen, arviointi ja käyttöönotto. Tässä mallissa korostuu se, miten vaiheiden välillä voidaan mennä myös taaksepäin. Esimerkiksi datan ymmärtämisen jälkeen voidaan vielä palata liiketoiminnan ymmärtämiseen. Malli on myös \"luuppi\" eli sen suorittaminen ei koskaan lopu, vaan prosessia kehitetään jatkuvasti. Mallin avulla voidaankin hyvin painottaa sitä, miten itse data ja sen käsittely on vain yksi osa prosessia ja siihen kuuluu hyvin paljon muutakin."
   ]
  },
  {
   "cell_type": "markdown",
   "id": "d129beef",
   "metadata": {},
   "source": [
    "Luennon aikana pohdin paljon myös sitä, mistä voisin itse tehdä harjoitustyöni. Olen todennut kurssin aikana, ettei osaamiseni riitä kehittämään täysin uutta datatiedeprojektia. Sellaisen aloittaminen veisi liian paljon aikaa ja tarvitsisin todennäköisesti hyvin paljon kurssihenkilökunnan apua, jotta se onnistuisi. Täten päätin luennon aikana, että hyödynnän harjoitustyön malliesimerkkiä työssäni. Minun tulikin siis keksiä, miten soveltaisin malliesimerkkiä. Malliesimerkki oli tehty datasta, joka kuvaili tilannetta San Fransiscossa. En tunne juuri ollenkaan kyseistä kaupunkia, joten minun on erittäin vaikea pohtia esimerkin tuloksia. Päädyinkin siihen, että teen harjoitustyöni esimerkkiä soveltaen siten, että otan Roomaa koskevaa dataa. Olen käynyt siellä useasti, joten on mielenkiintoista ottaa selvää, mitkä tekijät vaikuttavat siellä eniten Airbnb-asuntojen hintoihin. Tällöin voin myös vertailla San Fransiscon ja Rooman tuloksia keskenään. "
   ]
  },
  {
   "cell_type": "markdown",
   "id": "316954a7",
   "metadata": {},
   "source": [
    "Koodiklinikassa käsiteltiin datan käsittelyä sekä lineaarista regressiota. Datan käsittelyssä jatkettiin oikeastaan siitä, mihin viime viikolla jäätiin. Koodiklinikassa esiteltiin muun muassa, miten tyhjäarvot voidaan poistaa tai korvata keskiarvolla. Tämä tehtiin hyvin samalla tavalla kuin aiemminkin, joten siinä ei tullut juurikaan uusia oppeja. Datan käsittelystä itselle paras oppi oli varmaankin, miten sarakkeen arvoista voidaan poistaa esimerkiksi %- tai $-merkki. Lineaarisen regression suorittaminen pythonilla oli itselle täysin uusi asia. Se selitettiin mielestäni loistavasti ja opin muutamia uusia komentoja."
   ]
  },
  {
   "cell_type": "markdown",
   "id": "d10115cb",
   "metadata": {},
   "source": [
    "## Viisi oivallusta / tärkeintä vinkkiä"
   ]
  },
  {
   "cell_type": "markdown",
   "id": "377b7707",
   "metadata": {},
   "source": [
    "* Kaikkien datatiedeprojektien tulee olla ongelmalähtöisiä\n",
    "* CRISP-DM hyödyllinen malli datatiedeprojekteissa\n",
    "* Aihekuvauspohja voi auttaa hahmottamaan ongelman/ratkaisun tärkeyttä\n",
    "* Viikon tärkein oivallus oli, mistä teen harjoitustyön\n",
    "* Lineaarisen regression suorittaminen Pythonilla on verrattain helppoa"
   ]
  },
  {
   "cell_type": "markdown",
   "id": "1b8226de",
   "metadata": {},
   "source": [
    "## Kehityskohteita / flippausvinkkejä"
   ]
  },
  {
   "cell_type": "markdown",
   "id": "bcb3dbb7",
   "metadata": {},
   "source": [
    "* Luennolla käytettiin paljon aikaa aihekuvauspohjien täyttöön, mutta niitä ei juurikaan käsitelty. Olisi ollut kiva kuulla, mitä mieltä muut ryhmät olivat toisten aikaansaannoksista."
   ]
  },
  {
   "cell_type": "markdown",
   "id": "bd7df60a",
   "metadata": {},
   "source": [
    "## Demo viikon aikana oppimastani"
   ]
  },
  {
   "cell_type": "markdown",
   "id": "884e04e4",
   "metadata": {},
   "source": [
    "Luennolla ei käsitelty ollenkaan koodia, joten tämän viikon demo on täysin koodiklinikan perusteella tehty."
   ]
  },
  {
   "cell_type": "markdown",
   "id": "0c1a39ae",
   "metadata": {},
   "source": [
    "Ensimmäinen opittu asia oli, miten voidaan tarkistaa paljonko tyhjiä arvoja datassa on eri sarakkeissa. Jos meillä olisi esimerkiksi datana df, voisimme ajaa koodin:"
   ]
  },
  {
   "cell_type": "code",
   "execution_count": null,
   "id": "2fb30ecf",
   "metadata": {},
   "outputs": [],
   "source": [
    "print(df.isnull().sum())"
   ]
  },
  {
   "cell_type": "markdown",
   "id": "6b5820aa",
   "metadata": {},
   "source": [
    "Yksi koodiklinkassa opittu asia oli myös, miten sarakkeen arvoista voidaan poistaa alusta tai lopusta jokin merkki. Jos df:ssä on esimerkiksi saraka price, jonka arvoissa on alussa $-merkki, voidaan se poistaa ja muuttaa arvot nuumerisiksi seuraavalla koodilla:"
   ]
  },
  {
   "cell_type": "code",
   "execution_count": null,
   "id": "2524a820",
   "metadata": {},
   "outputs": [],
   "source": [
    "df.price = df.price.str.strip('%')\n",
    "df.price = pd.to_numeric(df.price)"
   ]
  },
  {
   "cell_type": "markdown",
   "id": "8a55fa3f",
   "metadata": {},
   "source": [
    "Koodiklinikassa opetettiin myös, miten sanalliset muuttujat voidaan muuttaa numeerisiksi. Jos esimerkiksi df:ssä on saraka rating, joka on esitetty kirjallisesti (esim. huono, ok ja hyvä), voidaan se muuttaa numeeriseksi seuraavalla tavalla:"
   ]
  },
  {
   "cell_type": "code",
   "execution_count": null,
   "id": "a1ece3d8",
   "metadata": {},
   "outputs": [],
   "source": [
    "categorical_values = preprocessing.LabelEncoder().fit_transform(df.rating)\n",
    "df.rating = categorical_values"
   ]
  },
  {
   "cell_type": "markdown",
   "id": "c0963912",
   "metadata": {},
   "source": [
    "Koodiklinikassa oli tällä viikolla tärkeimpänä asiana lineaarinen regressio. Jos haluttaisiin selvittää, miten price ja rating korreloivat keskenään, voitaisiin kirjoittaa seuraava koodi:"
   ]
  },
  {
   "cell_type": "code",
   "execution_count": null,
   "id": "e33a8d4a",
   "metadata": {},
   "outputs": [],
   "source": [
    "y = df.rating\n",
    "x = df.price\n",
    "\n",
    "predict = cross_val_predict(linear_model.LinearRegression(), x, y, cv=10)"
   ]
  },
  {
   "cell_type": "markdown",
   "id": "eca4212a",
   "metadata": {},
   "source": [
    "Tämä korrelaatio voitaisiin piirtää myös kuvaajaan, mutta tällä kertaa se ei mahdu tähän demoon mukaan. Demon viimeisenä asiana näytetään vielä, miten voidaan selvittää koko dataframen korrelaatiot keskenään tai vaihtoehtoisesti muiden sarakkeiden korrelaatio sarakkeeseen price:"
   ]
  },
  {
   "cell_type": "code",
   "execution_count": null,
   "id": "032a1281",
   "metadata": {},
   "outputs": [],
   "source": [
    "print(df.corr())\n",
    "print(df.corr()['price'])"
   ]
  }
 ],
 "metadata": {
  "kernelspec": {
   "display_name": "Python 3 (ipykernel)",
   "language": "python",
   "name": "python3"
  },
  "language_info": {
   "codemirror_mode": {
    "name": "ipython",
    "version": 3
   },
   "file_extension": ".py",
   "mimetype": "text/x-python",
   "name": "python",
   "nbconvert_exporter": "python",
   "pygments_lexer": "ipython3",
   "version": "3.9.7"
  }
 },
 "nbformat": 4,
 "nbformat_minor": 5
}
