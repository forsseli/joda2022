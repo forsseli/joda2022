{
 "cells": [
  {
   "cell_type": "markdown",
   "id": "5fb50858",
   "metadata": {},
   "source": [
    "# Viikko 5"
   ]
  },
  {
   "cell_type": "markdown",
   "id": "92caa1ee",
   "metadata": {},
   "source": [
    "## Osallistuminen opetukseen"
   ]
  },
  {
   "cell_type": "markdown",
   "id": "38ef3efb",
   "metadata": {},
   "source": [
    "En päässyt osallistumaan vierailuluennolle, joten katsoin viime vuoden vastaavan luennon. Käsittääkseni aihe oli kuitenkin sama, kuin tämän vuoden luennolla. Katsoin myös koodiklinikan jälkikäteen tallenteena."
   ]
  },
  {
   "cell_type": "markdown",
   "id": "66c2316a",
   "metadata": {},
   "source": [
    "## Luentoviikon keskeiset asiat"
   ]
  },
  {
   "cell_type": "markdown",
   "id": "8832ca81",
   "metadata": {},
   "source": [
    "Tällä viikolla luento oli hieman erilainen, koska sen piti yrityksen edustaja. Välillä myös huomasi, että meni vähän organisaation mainostukseen, mutta luento oli ennen kaikkea hyvin opettavainen. Olin aiemminkin ollut Teemu Mikkosen pitämällä \"luennolla\", kun kävimme Solitalla exculla. Asiakin oli suunnilleen samanlaista. Luento keskittyi normaalia enemmän koodaukseen, mutta myös hieman teoriaa käsiteltiin. Aiheena oli jo aiemminkin luennoilla käsitelty NLP eli luonnollisen kielen analyysi. Määrittely NLP:lle oli hyvin samanlainen kuin aiemmin luennoilla, mutta siitä annettin myös hyviä esimerkkejä. Esimerkkeinä mainittiin muun muassa chatbotit, automaattiset konekäännökset ja tekstin luokittelu. Chatbotit olivat mielenkiintoinen esimerkki ja en ole aiemmin miettinytkään niiden toimintaperiaatetta. Olisikin hauska joskus kuulla, miten chatbotit on rakkennettu."
   ]
  },
  {
   "cell_type": "markdown",
   "id": "d129beef",
   "metadata": {},
   "source": [
    "Suurin osa vierailuluennolla esitellyistä datan käsittelyyn liittyvistä toimepiteistä oli tuttuja jo kurssin luentojen perusteella. Esimerkiksi hukkasanojen poistoa sekä kirjainten muuttamista pieniksi on käyty jo aiemminkin. Uusi asia oli kuitenkin sanojen muuttaminen perusmuotoon. En ollut aiemmin edes kuullut voikko-kirjastosta. Olikin erittäin mielekiintoista huomata, miten helposti sanat pystyttiin muuttamaan perusmuotoon. Muutenkin vierailuluennoitsija sai kaiken kuulostamaan harvinaisen helpolta, kun omasta mielestä se ei sitä välttämättä ollut. Toisaalta oli ainakin hyvää mainosta Solitan data-akatemialle, että kaveri tuntui oikeasti osaavan asiansa."
   ]
  },
  {
   "cell_type": "markdown",
   "id": "316954a7",
   "metadata": {},
   "source": [
    "Yksi luennon uusista asioista oli myös FastText NLP-kirjasto. Erityisesti pidin mallin visuaalisesta esityksestä, jonka avulla sai selkeän kuvan tämän kirjaston toiminnasta. Kirjaston avulla mallin opettaminen tuntui olevan suhteellisen helppoa. Malli tuntui myös toimivan hyvin ainakin luennon lopussa esiteltyjen esimerkkien perusteella. Yleisesti ottaen luento oli erittäin mielenkiintoinen ja opettavainen."
   ]
  },
  {
   "cell_type": "markdown",
   "id": "ad210584",
   "metadata": {},
   "source": [
    "Tämän viikon koodiklinikassa käytiin läpi tekstin prosessointia ja klusterointia. Huomaa, että kurssi on edennyt jo aika pitkälle, sillä koodi rupeaa olemaan jo huomattavan haastavaa. Tämä oli ensimmäinen viikko, kun en enää ymmärtänyt jokaista koodiriviä tai oikeastaan, mitä tietty koodirivi teki ja mitä sillä haettiin. Kokonaiskuva tuli kuitenkin selväksi ja esimerkiksi klusteroinnin olen tuntenut käsitteenä jo aiemminkin, mutta nyt sai ainakin jonkinlaisen kuvan siitä, miten se toteutetaan käytännössä. Koodiklinikassa käytiin myös läpi kaksi erilaista tapaa löytää piirteitä tekstistä. Molemmat tavat selitettiin hyvin ja ymmärsinkin molempien toteutuksen periaatteen tasolla. Käytännön esimerkki oli kuitenkin sen verran monimutkainen, etten ihan kaikkea ymmärtänyt."
   ]
  },
  {
   "cell_type": "markdown",
   "id": "d10115cb",
   "metadata": {},
   "source": [
    "## Viisi oivallusta / tärkeintä vinkkiä"
   ]
  },
  {
   "cell_type": "markdown",
   "id": "377b7707",
   "metadata": {},
   "source": [
    "* Luonnollisen kielen analyysi erittäin mielenkiintoinen aihe\n",
    "* Voikko-kirjaston avulla sanat voidaan muokata perusmuotoonsa\n",
    "* FastText-kirjaston avulla voidaan luoda luonnollisen kielen analyysin koneoppimisen malleja\n",
    "* Tekstistä on selvitettävissä piirteitä koodin avulla\n",
    "* Kaksi erilaista tapaa selvittää piirteitä ovat BoW ja TF-IDF"
   ]
  },
  {
   "cell_type": "markdown",
   "id": "1b8226de",
   "metadata": {},
   "source": [
    "## Kehityskohteita / flippausvinkkejä"
   ]
  },
  {
   "cell_type": "markdown",
   "id": "bcb3dbb7",
   "metadata": {},
   "source": [
    "* Vaikka en valitettavasti päässyt osallistumaan vierailuluennolle, niin mielestäni se olisi parempi järjestää kampuksella. Ainakin itse keskityn aina luennolla paremmin, jos se pidetään lähiopetuksena. Silloin on myös vierailuluennoitsijan helpompi esittää kysymyksiä opiskelijoille."
   ]
  },
  {
   "cell_type": "markdown",
   "id": "bd7df60a",
   "metadata": {},
   "source": [
    "## Demo viikon aikana oppimastani"
   ]
  },
  {
   "cell_type": "markdown",
   "id": "4b47b3fb",
   "metadata": {},
   "source": [
    "Käsitellään ensin vierailuluennolla ollutta koodia. Esimerkiksi opin, miten tekstistä voi poistaa kaiken muun paitsi kirjaimet ja numerot:"
   ]
  },
  {
   "cell_type": "code",
   "execution_count": null,
   "id": "565e7adf",
   "metadata": {},
   "outputs": [],
   "source": [
    "sana = re.sub(\"[^A-Za-z0-9ÄäÖö-]+\", \"\", sana)"
   ]
  },
  {
   "cell_type": "markdown",
   "id": "ead0bdd7",
   "metadata": {},
   "source": [
    "Opin myös, miten sanat voi muuttaa perusmuotoon Voikko-kirjaston avulla:"
   ]
  },
  {
   "cell_type": "code",
   "execution_count": null,
   "id": "84776342",
   "metadata": {},
   "outputs": [],
   "source": [
    "voikko_dict = v.analyze(sana)\n",
    "sana = voikko_dict[0]['BASEFORM']"
   ]
  },
  {
   "cell_type": "markdown",
   "id": "29ff8ea3",
   "metadata": {},
   "source": [
    "Näiden lisäksi käsiteltiin muun muassa koneoppimista, mutta sitä olen käsittelyt jo aiemmassa koodidemossani. Näin ollen siirryn seuraavaksi koodiklinikan koodin pariin. Koodiklinikassa opetettiin aluksi, miten json-tiedosto avataan:"
   ]
  },
  {
   "cell_type": "code",
   "execution_count": null,
   "id": "87b2dfb8",
   "metadata": {},
   "outputs": [],
   "source": [
    "df = pd.read_json('https://raw.githubusercontent.com/InfoTUNI/joda2022/master/koodiesimerkit/out.json')"
   ]
  },
  {
   "cell_type": "markdown",
   "id": "92fea83f",
   "metadata": {},
   "source": [
    "Käytännössä se tapahtuu siis samalla tavalla, kuin csv-tiedoston hyödyntäminen. Koodiklinikassa käytiin myös läpi, miten tekstistä voidaan ottaa pala ja muuttaa se desimaaliluvuksi:"
   ]
  },
  {
   "cell_type": "code",
   "execution_count": null,
   "id": "2ce5bb19",
   "metadata": {},
   "outputs": [],
   "source": [
    "conv_rating = lambda rating: float(rating[:2])\n",
    "df['rating'] = df['rating'].apply(conv_rating)"
   ]
  },
  {
   "cell_type": "markdown",
   "id": "5fdb85a1",
   "metadata": {},
   "source": [
    "Koodiklinikassa käsiteltiin myös, miten klusterointia suoritetaan (saadaan muodostettua klusterit):"
   ]
  },
  {
   "cell_type": "code",
   "execution_count": null,
   "id": "ce0e13ee",
   "metadata": {},
   "outputs": [],
   "source": [
    "from sklearn.cluster import KMeans\n",
    "k = 6\n",
    "kmeans = KMeans(n_clusters=k, random_state=11)\n",
    "clusters = kmeans.fit_predict(reprs)"
   ]
  },
  {
   "cell_type": "markdown",
   "id": "02f6461c",
   "metadata": {},
   "source": [
    "Klustereiden keskiarvot voidaan tulostaa näin:"
   ]
  },
  {
   "cell_type": "code",
   "execution_count": null,
   "id": "2bf87166",
   "metadata": {},
   "outputs": [],
   "source": [
    "average_ratings = df.groupby('cluster_id').mean()\n",
    "fig = average_ratings.plot.bar(figsize=(10,5))"
   ]
  }
 ],
 "metadata": {
  "kernelspec": {
   "display_name": "Python 3 (ipykernel)",
   "language": "python",
   "name": "python3"
  },
  "language_info": {
   "codemirror_mode": {
    "name": "ipython",
    "version": 3
   },
   "file_extension": ".py",
   "mimetype": "text/x-python",
   "name": "python",
   "nbconvert_exporter": "python",
   "pygments_lexer": "ipython3",
   "version": "3.9.7"
  }
 },
 "nbformat": 4,
 "nbformat_minor": 5
}
