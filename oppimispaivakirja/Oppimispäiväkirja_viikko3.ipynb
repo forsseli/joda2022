{
 "cells": [
  {
   "cell_type": "markdown",
   "id": "5fb50858",
   "metadata": {},
   "source": [
    "# Viikko 3"
   ]
  },
  {
   "cell_type": "markdown",
   "id": "92caa1ee",
   "metadata": {},
   "source": [
    "## Osallistuminen opetukseen"
   ]
  },
  {
   "cell_type": "markdown",
   "id": "38ef3efb",
   "metadata": {},
   "source": [
    "Olin tällä viikolla taas töissä luennon aikana, joten katsoin sen jälkikäteen panoptosta. Koodiklinikan katsoin panoptosta livenä. Valitettavasti se video loppui ennen, kuin esimerkki oli ehditty käymään kokonaan läpi. Luin myös ennen luentoa esilukemistona olleen Huhtamäen ja Laaksosen (2017) artikkelin."
   ]
  },
  {
   "cell_type": "markdown",
   "id": "66c2316a",
   "metadata": {},
   "source": [
    "## Luentoviikon keskeiset asiat"
   ]
  },
  {
   "cell_type": "markdown",
   "id": "8832ca81",
   "metadata": {},
   "source": [
    "Tällä viikolla käsiteltiin koneoppimista. Käsiteltyjä asioita olivat esimerkiksi koneoppimisen perusteet, piirteet, soveltaminen datatieteissä sekä sen suhde tekoälyyn. Olen jo ennen kurssin alkua tiennyt periaatteessa, miten koneoppiminen toimii. Kuitenkin sen tekninen toteutus on ollut hieman epäselvää. Luennolla tuli siis monia uusia asioita."
   ]
  },
  {
   "cell_type": "markdown",
   "id": "d129beef",
   "metadata": {},
   "source": [
    "Luennon alkupuolella käytiin läpi \"supervised learning workflow\". Käytänösä se oli malli koneoppimisen hyödyntämiseen. Mallin mukaan prosessi voidaan jakaa kahteen osaan: mallin koulutus ja ennustaminen. Malli oli itselle pääpiirteittäin tuttu. Malli on tullut vastaan muun muassa excrusioilla, jossa on käyty läpi koneoppimisen esimerkkejä. Malli oli kokonaisuudessaan erittäin selkeä ja mielestäni se oli hyvä esitellä, sillä se on helppo ymmärtää, vaikkei olisi ennen koneoppimisesta kuullutkaan."
   ]
  },
  {
   "cell_type": "markdown",
   "id": "316954a7",
   "metadata": {},
   "source": [
    "Esilukemistona ollut artikkeli käsitteli piirteitä ja erityisesti prosessia, jossa laadullinen tieto muutetaan laskennaksi. Huhtamäen ja Laaksosen (2017) artikkeli kuvaa selkeästi, mitä piirteet ovat ja mihin niitä voidaan hyödyntää. Heidän mukaansa piirteillä tarkoitetaan sosiaalisen median sisältöjen ominaisuuksia. He toteavat myös, että on tärkeää erotella piirteiden eri käyttötarkoitukset, sillä tutkimuskäytössä ja monessa muussa käyttötarpeessa vaatimukset ovat hyvin erilaisia. Piirteet ovat itselle jo tuttuja ja olenkin jonkin verran esimerkiksi YouTuben avulla tutustunut piirteiden tunnistamiseen esimerkiksi videoista ja kuvista. Tällainen on mielestäni erittäin mielenkiintoista ja luulen, että piirteiden tunnistaminen ja hyödyntäminen tulee vain lisääntymään tulevaisuudessa. Luennolla tuli myös hyvä huomautus siitä, että tulee kuitenkin muistaa muun muassa yksityisyyteen liittyvät lait ja asetukset, kun ruvetaan esimerkiksi videoita analysoimaan ja tunnistaamaan niistä piirteitä."
   ]
  },
  {
   "cell_type": "markdown",
   "id": "46a02d27",
   "metadata": {},
   "source": [
    "Piirteiden tunnistaminen ohjelmoimalla oli itselle uutta asiaa. Luennolla käyty esimerkki arvostelun piirteiden löytämisestä oli hyvin mielenkiintoinen. Erityisesti piirretyt jakaumat sanoista oli erittäin mielenkiintoinen. Niiden avulla sai hyvän kuvan siitä, miten onnistuttiin poistamaan \"turhat\" sanat joukosta. Oli myös hyvin mielenkiintoista ja opettavaista, miten saatiin selvitettyä lauseiden tunnesävyjä. Luennolla esiteltiin myös muita syitä, miksi piirteiden tunnistaminen ja valinta on fiksua. Olikin mielenkiintoista kuulla, mitä muita hyötyjä piirteiden tunnistamisesta on. Aiemmin olin ajatellut vain mahdollista mallien tunnistamista."
   ]
  },
  {
   "cell_type": "markdown",
   "id": "ee6b77e2",
   "metadata": {},
   "source": [
    "Ohjattua oppimista käytiin lyhyesti luennolla läpi ja enemmän koodiklinikassa. Aineiston jakaminen kahteen osaan mallin opettamista ja testaamista varten oli itselle jo tuttua. Sen toteuttaminen koodin avulla oli kuitenkin itselle uutta ja oli erittäin mielenkiintoista nähdä, miten se toteutetaan käytännössä. Luennolla käytiin läpi myös mahdollisia virheitä, joita tehdään ohjatussa oppimisessa ja erityisesti sen luokittelussa. Virheistä \"cherry picking\", \"false causality\" ja \"sampling bias\" olivat itselle jo varsin tuttuja, mutta oli mukava oppia myös muista mahdollisista virheistä. Varsinkin luennolla esitetty \"survivorship bias\" oli mielestäni erittäin mielenkiintoinen mahdollinen virhe, jota en ollut tullut aiemmin ajatelleeksi."
   ]
  },
  {
   "cell_type": "markdown",
   "id": "d10115cb",
   "metadata": {},
   "source": [
    "## Viisi oivallusta / tärkeintä vinkkiä"
   ]
  },
  {
   "cell_type": "markdown",
   "id": "377b7707",
   "metadata": {},
   "source": [
    "* Koneoppiminen koostuu mallin koulutuksesta ja ennustamisesta\n",
    "* Piirteiden tunnistaminen tekstistä on suhteellisen simppeliä\n",
    "* Piirteiden tunnistaminen kuvista ja videoista jonkin verran haastavampaa\n",
    "* Luonnollista kieltä voidaan analysoida esimerkiksi NLTK-kirjaston ja spaCyn avulla\n",
    "* Ohjattu oppiminen on haastava prosessi, jossa esimerkiksi datan käsittelyyn menee huomattavan paljon aikaa"
   ]
  },
  {
   "cell_type": "markdown",
   "id": "1b8226de",
   "metadata": {},
   "source": [
    "## Kehityskohteita / flippausvinkkejä"
   ]
  },
  {
   "cell_type": "markdown",
   "id": "bcb3dbb7",
   "metadata": {},
   "source": [
    "* Tehtävänjaon luennon ja koodiklinikan kesken voisi tehdä hieman selvemmäksi. Nyt luennolla käytiin lyhyesti sama asia, joka käytiin paremmin koodiklinikassa. Olisiko tämän ajan voinut käyttää luennolla johonkin muuhun?"
   ]
  },
  {
   "cell_type": "markdown",
   "id": "bd7df60a",
   "metadata": {},
   "source": [
    "## Demo viikon aikana oppimastani"
   ]
  },
  {
   "cell_type": "markdown",
   "id": "884e04e4",
   "metadata": {},
   "source": [
    "Tulen ensin käsittelemään muutamalla rivillä koodia piirteiden etsimistä ja hyödyntämistä. Tämän jälkeen siirryn tarkastelemaan koodiklinikassa opittua koodia ohjatusta oppimisesta."
   ]
  },
  {
   "cell_type": "markdown",
   "id": "0c1a39ae",
   "metadata": {},
   "source": [
    "Luennolla opin esimerkiksi, miten lause pilkotaan sanoiksi. Tämän lisäksi opin, kuinka voidaan tarkastella joukossa olevien sanojen esiintymistä ja miten tämä piirretään kuvajaan. Seuraavaksi demo näiden toteuttamisesta lauseeseen sentence:"
   ]
  },
  {
   "cell_type": "code",
   "execution_count": null,
   "id": "2fb30ecf",
   "metadata": {},
   "outputs": [],
   "source": [
    "token=word_tokenize(sentence)\n",
    "fdist = FreqDist(token)\n",
    "fdist.plot(30, cumulative=False)"
   ]
  },
  {
   "cell_type": "markdown",
   "id": "6b5820aa",
   "metadata": {},
   "source": [
    "Lisäksi opin luennolle, miten voidaan etsiä hukkasanat:"
   ]
  },
  {
   "cell_type": "code",
   "execution_count": null,
   "id": "2524a820",
   "metadata": {},
   "outputs": [],
   "source": [
    "stopword=set(stopwords.words(\"english\"))"
   ]
  },
  {
   "cell_type": "markdown",
   "id": "8a55fa3f",
   "metadata": {},
   "source": [
    "Koodiklinikassa keskityttiin ohjattuun oppimiseen. Siellä opin esimerkiksi, miten kolumnin puuttuvat arvot (NaN) voidaan korvata kolumnin keskiarvolla. Olkoon meillä vaikka datasetti nimeltään data, josta halutaan siivota kolumnit, jotka on listassa nimeltään NaN_columns:"
   ]
  },
  {
   "cell_type": "code",
   "execution_count": null,
   "id": "a1ece3d8",
   "metadata": {},
   "outputs": [],
   "source": [
    "imputer = Imputer()\n",
    "data[NaN_columns] = imputer.fit_transform(data[NaN_columns])"
   ]
  },
  {
   "cell_type": "markdown",
   "id": "c0963912",
   "metadata": {},
   "source": [
    "Toisaalta NaN arvoja sisältävät rivit voidaan poistaa koodilla:"
   ]
  },
  {
   "cell_type": "code",
   "execution_count": null,
   "id": "e33a8d4a",
   "metadata": {},
   "outputs": [],
   "source": [
    "data=data.dropna()"
   ]
  },
  {
   "cell_type": "markdown",
   "id": "eca4212a",
   "metadata": {},
   "source": [
    "Koodiklinikassa opin myös muun muassa, miten kategoriset attribuutit voidaan muuttaa numeerisiksi:"
   ]
  },
  {
   "cell_type": "code",
   "execution_count": null,
   "id": "032a1281",
   "metadata": {},
   "outputs": [],
   "source": [
    "data = pd.get_dummies(data)"
   ]
  },
  {
   "cell_type": "markdown",
   "id": "8806d897",
   "metadata": {},
   "source": [
    "Koodiklinikan hienoin oppi oli ehkä kuitenkin, että miten datasetti jaetaan neljään osaan, jotta sen avulla voidaan kouluttaa koneoppimisen malli:"
   ]
  },
  {
   "cell_type": "code",
   "execution_count": null,
   "id": "f9360245",
   "metadata": {},
   "outputs": [],
   "source": [
    "version['x_train'], version['x_test'], version['y_train'], version['y_test'] = train_test_split(x, y, test_size= 0.25, random_state=13)"
   ]
  },
  {
   "cell_type": "markdown",
   "id": "d0e2f7e7",
   "metadata": {},
   "source": [
    "Koneoppimisen mallin kouluttaminen oli myös erittäin mielenkiintoinen prosessi, mutta tällä kertaa se ei mahtunut tähän koodidemoon mukaan."
   ]
  },
  {
   "cell_type": "markdown",
   "id": "dd9fac32",
   "metadata": {},
   "source": [
    "## Lähteet"
   ]
  },
  {
   "cell_type": "markdown",
   "id": "dbd2fd51",
   "metadata": {},
   "source": [
    "Huhtamäki, J. & Laaksonen, S. (2017). Näin laadullinen tieto jalostuu laskennalliseksi: piirteet sosiaalisen median analytiikassa. Saatavilla www-muodossa: https://rajapinta.co/2017/10/16/nain-laadullinen-tieto-jalostuu-laskennalliseksi-piirteet-sosiaalisen-median-analytiikassa/ (Luettu 24.03.2022)"
   ]
  }
 ],
 "metadata": {
  "kernelspec": {
   "display_name": "Python 3 (ipykernel)",
   "language": "python",
   "name": "python3"
  },
  "language_info": {
   "codemirror_mode": {
    "name": "ipython",
    "version": 3
   },
   "file_extension": ".py",
   "mimetype": "text/x-python",
   "name": "python",
   "nbconvert_exporter": "python",
   "pygments_lexer": "ipython3",
   "version": "3.9.7"
  }
 },
 "nbformat": 4,
 "nbformat_minor": 5
}
