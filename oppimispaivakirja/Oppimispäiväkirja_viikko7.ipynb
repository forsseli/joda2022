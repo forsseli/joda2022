{
 "cells": [
  {
   "cell_type": "markdown",
   "id": "5fb50858",
   "metadata": {},
   "source": [
    "# Viikko 6"
   ]
  },
  {
   "cell_type": "markdown",
   "id": "92caa1ee",
   "metadata": {},
   "source": [
    "## Osallistuminen opetukseen"
   ]
  },
  {
   "cell_type": "markdown",
   "id": "e8089172",
   "metadata": {},
   "source": [
    "Tällä viikolla katsoin luennon jälkikäteen tallenteena. Tämän lisäksi kävin läpi luennon esilukemistona olleet Davenportin ja Kudyban (2016) artikkelin sekä Jeffrey Heerin (2017) videon. Luennolla myös mainittiin, että kannattaa tutustua O'reillyn tarjontaan, joten etsin sieltä kurssin aiheisiin sopivia kirjoja. Löysinkin yhden kokoelman \"Pandas with Python\" (By Daniel Chen), joka vaikutti mielenkiintoiselta ja hyvin kurssin aiheisiin sopivalta. Kokoelmassa olleet kirjat ja videot vaikuttivat sopivan hyvin myös aloittelijoille."
   ]
  },
  {
   "cell_type": "markdown",
   "id": "66c2316a",
   "metadata": {},
   "source": [
    "## Luentoviikon keskeiset asiat"
   ]
  },
  {
   "cell_type": "markdown",
   "id": "4e82e873",
   "metadata": {},
   "source": [
    "Luennon mielenkiintoisin ja eniten ajatuksia herrättävä kohta oli, kun luennoitsija esitti, ettei tietojohtamisen DIKW-pyramidi välttämättä ole hyvä ja toimiva malli sellaisenaan. Kyseinen malli, jossa datasta saadaan informaatiota, informaatiosta tietämystä ja tietämyksestä viisautta, on tullut vastaan hyvin monilla tietojohtamisen kursseilla. Usein se on kuitenkin esitetty sellaisenaan, jolloin oli hyvin mielenkiintoista kuulla, miten pyramidin voisi hyvin esittää myös toisin päin. Mielestäni yksi tietojohtamisen kiinnostavimmista puolista onkin, että eri ihmiset lähestyvät tietojohtamisen perusteita eri tavoin ja näin ollen eri tapoja voi vertailla keskenään. Onkin hyvin haastavaa luoda yksiselitteisiä tietojohtamisen malleja."
   ]
  },
  {
   "cell_type": "markdown",
   "id": "4f2360a7",
   "metadata": {},
   "source": [
    "Luennolla käytiin myös yleisiä periaatteita aineiston visualisoinnille. Luennolla esiteltiin kolme periaatetta, jotka olivat projektien ainutkertaiset rajoitteet, olennaisen esittäminen yksinkertaisesti sekä yleisön tunnistaminen. Nämä periaatteet ovat olleet useasti esillä myös tällä hetkellä käymälläni kurssilla \"Data-analytiikka päätöksenteossa\". Varsinkin kaksi ensimmäistä periaatetta ovat tulleet hyvin esille kyseisen kurssin harjoitustyössä, jonka toteutamme Power BI:llä. Edellä mainitulla kurssilla on myös ollut viikoittain aineistoja, joita on pitänyt lukea. Kerran aineistona olikin kirja, joka käsitteli muun muassa eri tekijöitä, joita tulee ottaa huomioon dataa visualisoidessa. Myös tässä kirjassa painotettiin, miten yleisö tulee tuntea ja analyysin tulee olla sellaista, että kohdeyleisö varmasti ymmärtää, mistä on kyse."
   ]
  },
  {
   "cell_type": "markdown",
   "id": "a98e9c57",
   "metadata": {},
   "source": [
    "Tämän viikon luennolla esiteltiin myös monia erilaisia huonosti toteutettuja visualisointeja. Suurin osa näistä huonosti toteutetuista visualisoinneista oli harhaanjohtavia. Olenkin saanut opintojeni aikana sellaisen kuvan, että visualisointien tulisi nopealla vilkauksellakin viestittää haluttu viesti. Mikäli visualisointi ei siis ole yksinkertainen ja helposti tulkittavissa, on se todennäköisesti huono. Olen itse aloittanut pari kuukautta sitten työskentelemään Power BI:n parissa ja jo nyt olen monesti kohdannut tilanteen, jossa olen pohtinut, mikä visualisointi olisi paras mihinkin tilanteeseen. Luennolla esitettiinkin myös sellainen kuva, jossa oli listattu erilaisia kuvaajia ja niiden käyttötarkoituksia. Esimerkiksi oli listattu, millaisia visualisointeja voisi käyttää aikasarjaa kuvatessa. Tulevaisuudessa osaankin etsiä vastaavia listauksia, mikäli pohdin, millainen kuvaaja voisi sopia erilaisiin tilanteisiin."
   ]
  },
  {
   "cell_type": "markdown",
   "id": "5270c200",
   "metadata": {},
   "source": [
    "Luennon lopuksi käytiin vielä käytännön visualisointiesimerkki. Kyseinen esimerkki oli toteutettu Holoviews-kirjastolla ja tulen palaamaan sen tekniseen toteutukseen koodidemossa. Visualisointiesimerkin suurin oppi oli varmastikin, että myös pythonin avulla voidaan toteuttaa kuvaajiin komponentteja, joiden avulla käyttäjä voi muokata visualisointiin valittua dataa. Oli myös hienoa nähdä, miten kuvaan saatiin tavallaan piirrettyä kartta, vaikkei kuvassa karttaa ollutkaan. Toki tällöin pitää datasetissä olla suuri määrä datapisteitä, jotta kartta muodostuu."
   ]
  },
  {
   "cell_type": "markdown",
   "id": "d10115cb",
   "metadata": {},
   "source": [
    "## Viisi oivallusta / tärkeintä vinkkiä"
   ]
  },
  {
   "cell_type": "markdown",
   "id": "31a1bc28",
   "metadata": {},
   "source": [
    "* DIKW-pyramidi saattaa toimia jopa paremmin toisin päin\n",
    "* Aineiston visualisoinnilla muutamia yleisiä periaatteita\n",
    "* Visualisointien suunnittelussa tulee olla tarkkana ja pitää huoli, ettei ne ole harhaanjohtavia.\n",
    "* On olemassa listauksia siitä, millaisia kuvaajia kannattaa hyödyntää eri tilanteissa\n",
    "* Pythonilla on suhteellisen helppoa toteuttaa sellaisia komponentteja, joiden avulla käyttäjä voi vaikuttaa visualisointien sisältöön"
   ]
  },
  {
   "cell_type": "markdown",
   "id": "1b8226de",
   "metadata": {},
   "source": [
    "## Kehityskohteita / flippausvinkkejä"
   ]
  },
  {
   "cell_type": "markdown",
   "id": "cf14cfb2",
   "metadata": {},
   "source": [
    "Useamman kerran kurssin aikana on ollut niin, että githubin luentomuistiossa ei näy niitä visualisointeja, jotka on esitelty luennolla. Mielestäni olisi mielekkäämpää, jos näin ei olisi. Toki koodin voisi aina ajaa itse, jolloin visualisoinnit tulisivat näkyviin."
   ]
  },
  {
   "cell_type": "markdown",
   "id": "bd7df60a",
   "metadata": {},
   "source": [
    "## Demo viikon aikana oppimastani"
   ]
  },
  {
   "cell_type": "markdown",
   "id": "6ec843b9",
   "metadata": {},
   "source": [
    "Tällä viikolla ei ollut koodiklinikkaa, joten viikon demo perustuu täysin luentoon ja siinä oppimiini asioihin. Demo tulee siis oikeastaan sisältämään sellaisia pätkiä käytännön visualisointiesimerkistä, jotka olivat itselle uusia. Holoviews-kirjasto oli itselle täysin uusi ja sen saa haettua hyvin yksinkertaisesti:"
   ]
  },
  {
   "cell_type": "code",
   "execution_count": null,
   "id": "59053240",
   "metadata": {},
   "outputs": [],
   "source": [
    "import holoviews as hv"
   ]
  },
  {
   "cell_type": "markdown",
   "id": "33d2b8c9",
   "metadata": {},
   "source": [
    "Minulle oli myös uusi asia, miten pythonilla voi piirtää kaksi kuvaajaa vierekkäin:"
   ]
  },
  {
   "cell_type": "code",
   "execution_count": null,
   "id": "448e01cd",
   "metadata": {},
   "outputs": [],
   "source": [
    "plot = hv.Scatter(df, 'services', 'ridership') + hv.Histogram(np.histogram(df['opened'], bins=24), kdims=['opened'])\n",
    "plot"
   ]
  },
  {
   "cell_type": "markdown",
   "id": "28ab24fd",
   "metadata": {},
   "source": [
    "En ole varma, onko kurssilla käytetty aiemmin requestsia datan hakemiseen, mutten ainakaan ole aiemmin kiinnittänyt siihen huomiota. Sitä käytettiin luennolla näin:"
   ]
  },
  {
   "cell_type": "code",
   "execution_count": null,
   "id": "60c250ba",
   "metadata": {},
   "outputs": [],
   "source": [
    "import requests\n",
    "url = 'https://raw.githubusercontent.com/pyviz/holoviews/master/examples/assets/hourly_taxi_data.npz'\n",
    "taxidata = requests.get(url)\n",
    "with open('data/hourly_taxi_data.npz', 'wb') as f:\n",
    "    f.write(taxidata.content)"
   ]
  },
  {
   "cell_type": "markdown",
   "id": "919c1fef",
   "metadata": {},
   "source": [
    "Luennolla opin myös, miten kuvaajaan voidaan lisätä toiminnallisuutta. Luennolla esimerkiksi lisättiin kuvaajaan mahdollisuus vaihtaa kuvaajassa käytettyä tuntia seuraavien koodirivien avulla:"
   ]
  },
  {
   "cell_type": "code",
   "execution_count": null,
   "id": "dd586ca8",
   "metadata": {},
   "outputs": [],
   "source": [
    "dictionary = {int(hour):hv.Image(arr, ['lon','lat'], bounds=bounds) \n",
    "              for hour, arr in taxi_dropoffs.items()}\n",
    "imageDyn = hv.HoloMap(dictionary, kdims='Hour')"
   ]
  },
  {
   "cell_type": "markdown",
   "id": "2dd4fd5b",
   "metadata": {},
   "source": [
    "## Lähteet"
   ]
  },
  {
   "cell_type": "markdown",
   "id": "7658530b",
   "metadata": {},
   "source": [
    "Davenport, T. H. & Kudyba, S. (2016). Designing and developing analytics-based data products. MIT Sloan management review. 58 (1), 83–.\n",
    "\n",
    "Heer, J. (2017). Jeffrey Heer - Interactive Data Analysis: Visualization and Beyond. Saatavilla www-muodossa: https://www.youtube.com/watch?v=hsfWtPH2kDg (Katsottu 02.05.2022)"
   ]
  },
  {
   "cell_type": "markdown",
   "id": "42748e90",
   "metadata": {},
   "source": [
    "## Kurssin yhteenveto"
   ]
  },
  {
   "cell_type": "markdown",
   "id": "e8108b78",
   "metadata": {},
   "source": [
    "Kurssi oli kokonaisuudessaan erittäin opettavainen ja opin monia uusia asioita. Kurssin alussa asia oli itselle jopa osin tuttua, koska olin käynyt yhtä hieman vastaavaa nettikurssia. Loppua kohden asiat kuitenkin muuttuivat hyvin paljon monimutkaisemmiksi enkä enää lopuksi kaikkia koodirivejä täysin ymmärtänytkään. Ensimmäisen viikon oppimispäiväkirjassa määrittelin itselleni keskeiset oppimistavoitteet kurssille. Nyt onkin tullut aika tarkastella, miten hyvin ne ovat toteutuneet. Käynkin ne seuraavaksi läpi yksi kerrallaan."
   ]
  },
  {
   "cell_type": "markdown",
   "id": "2c96487b",
   "metadata": {},
   "source": [
    "**Jupyter Notebookin parempi hallinta.** Ennen kurssin alkua olin käyttänyt Jupyter Notebookia hyvin vähän, joten olen todellakin myös kehittynyt siinä. Loppujen lopuksi tätä on suhteellisen helppoa käyttää ja suuria haasteita ei ole ollut missään vaiheessa."
   ]
  },
  {
   "cell_type": "markdown",
   "id": "e47288c0",
   "metadata": {},
   "source": [
    "**Githubin käytön opettelu.** Ennen kurssia olin käyttänyt pelkästään Gitlabia. Näin ollen Githubin käyttö oli itselle täysin uutta. Ainoa kohtaamani haaste on kuitenkin ollut, etten aluksi osannut viedä sinne uusia versioita näistä oppimispäiväkirjojen luvuista. Latasin kuitenkin koneelleni Github Desktopin, jonka jälkeen ei ole enää ollut haasteita."
   ]
  },
  {
   "cell_type": "markdown",
   "id": "76da7407",
   "metadata": {},
   "source": [
    "**Parempi osaaminen pythonin datakirjastoista.** Olen kurssin aikana oppinut paljon lisää eri kirjastoista. Osassa kirjastoista osaaminen on laajentunut ja osasta olen oppinut ensimmäisiä asioita. Monet kirjastot ovat jääneet kuitenkin sen verran pintapuolisiksi, että vaatisi vielä huomattavasti opiskelua, jotta voisin sanoa osaavani niitä. Kurssin aikana on kuitenkin saanut hyvän kuvan siitä, millaisia kirjastoja on esimerkiksi olemassa."
   ]
  },
  {
   "cell_type": "markdown",
   "id": "a2c851c5",
   "metadata": {},
   "source": [
    "**Parempi ymmärrys datan ja laskennallisen analytiikan arvosta organisaation päätöksenteossa ja kehittämisessä.** En ehkä varsinaisesti voi sanoa, että olisin saanut paremman ymmärryksen tässä asiassa, mutta olen ainakin saanut lisää näkökulmia moniin aiheisiin. Olen myös oppinut uusia tapoja hyödyntää dataa ja laskennallista analytiikkaa, joten tavallaan olen oppinut, mitä päätöksenteossa ja kehityksessä voidaan hyödyntää."
   ]
  },
  {
   "cell_type": "markdown",
   "id": "0fcdaf78",
   "metadata": {},
   "source": [
    "### Kiitos kurssista!"
   ]
  }
 ],
 "metadata": {
  "kernelspec": {
   "display_name": "Python 3 (ipykernel)",
   "language": "python",
   "name": "python3"
  },
  "language_info": {
   "codemirror_mode": {
    "name": "ipython",
    "version": 3
   },
   "file_extension": ".py",
   "mimetype": "text/x-python",
   "name": "python",
   "nbconvert_exporter": "python",
   "pygments_lexer": "ipython3",
   "version": "3.9.7"
  }
 },
 "nbformat": 4,
 "nbformat_minor": 5
}
