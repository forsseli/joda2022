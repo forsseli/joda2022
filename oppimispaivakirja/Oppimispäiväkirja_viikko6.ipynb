{
 "cells": [
  {
   "cell_type": "markdown",
   "id": "5fb50858",
   "metadata": {},
   "source": [
    "# Viikko 6"
   ]
  },
  {
   "cell_type": "markdown",
   "id": "92caa1ee",
   "metadata": {},
   "source": [
    "## Osallistuminen opetukseen"
   ]
  },
  {
   "cell_type": "markdown",
   "id": "e8089172",
   "metadata": {},
   "source": [
    "Olin tällä viikolla sairaana, joten en päässyt paikan päälle luennolle. Katsoin sen siis jälkikäteen. Olin silti lukenut Padgetin (2021) artikkelin tunnetuista ja tuntemattomista tuntemattomista. Englanniksihan ne ovat known ja unknown unknowns enkä ole varma, miten ne tulisi suomentaa, mutta mielestäni nuo sanat kuvaavat hyvin merkityksiä. Koodiklinikan koitin katsoa livenä etänä, mutta jostain syystä ainakaan minulla ei äänet toimineet siinä livelähetyksessä. Näin ollen opiskelin koodiklinikan asiat käymällä läpi tämän tilaisuuden kooditiedostoa."
   ]
  },
  {
   "cell_type": "markdown",
   "id": "66c2316a",
   "metadata": {},
   "source": [
    "## Luentoviikon keskeiset asiat"
   ]
  },
  {
   "cell_type": "markdown",
   "id": "4e82e873",
   "metadata": {},
   "source": [
    "Luentoviikon esilukemistona ollut Padgetin (2021) artikkeli käsitteli siis aihetta known ja unknown unknowns. Luennoitsija on puhunut aiheesta jo useamman kerran kurssin aikana, mutta artikkeli tarjosi loistavat esimerkit siitä, mitä kyseiset käsitteet tarkoittavat. Kurssin aikana onkin tullut hyvin selväksi, miten sekä known että unknown unknowns pitää muistaa ottaa huomioon kaikkessa tekemisessä, mutta nyt tuli myös konkreettisia esimerkkejä, mitä nämä asiat ovat. Artikkeli oli myös siitä hyvä, että se antoi esimerkkejä, miten nämä asiat vaikuttavat nimen omaan datatieteen projekteissa. Padgetin (2021) mukaan esimerkiksi on todennäköistä, että jossain projektin vaiheessa tarvitaan suunniteltua enemmän testausta, mutta tähän on helppo varautua. Padget (2021) luo siis loistavan kuvan tunnettujen ja tuntemattomien tuntemattomien vaikutuksista datatieteen projekteihin."
   ]
  },
  {
   "cell_type": "markdown",
   "id": "c1cc1c88",
   "metadata": {},
   "source": [
    "Viikon luento käsitteli ohjaamatonta koneoppimista. Erityisesti keskityttiin ryvästämiseen sekä luonnollisen kielen analyysiin ja aihemallinnukseen. Ihan luennon alussa kuitenkin pohdittiin, mitä ohjaamaton oppiminen on ja mitä siihen kuuluu. Minulle jäi lopulta sellainen kuva, että ohjaamaton oppiminen eroaa ohjatusta siinä, että sen avulla ei pyritä löytämään joukosta tiettyä piirrettä vaan tavallaan malli etsii itse ennustettavat piirteet. Olikin mielenkiintoista kuunnella, miten jopa luennoitsija pohti aika paljon, mikä sitten kuuluu ohjaamattomaan ja mikä ohjattuun koneoppimiseen. Lopullisena johtopäätöksenä oli, että ohjaamattomaan oppimiseen kuuluu esimerkiksi ostoskorianalyysi, verkostoanalyysi, ryvästäminen ja aihemallinnus. Näistä ostoskorianalyysiä ja verkostoanalyysiä käytiin viikon koodiklinikassa."
   ]
  },
  {
   "cell_type": "markdown",
   "id": "9715f382",
   "metadata": {},
   "source": [
    "Yksi viikon pääaiheista oli ryvästäminen eli klusterointi. Varmastikin suurin oppi tähän asiaan liittyen oli että ryvästäminen ja klusterointi tarkoittavat samaa asiaa. Olen jo aiemmin ollut tietoinen klusteroinnista ja siihen liittyvistä toimenpiteistä, mutta en ole ollut tietoinen, että sille löytyy myös suomenkielinen sana. Olen hieman myös suorittanut aiemmin klusterointia, mutta hyödyntänyt siinä Matlabia. Olen mielestäni hyödyntänyt nimenomaan Kmean klusterointia, joten oli erittäin mielenkiintoista kuulla luennolla, miten se käytännössä toimii. Muistaakseni olen hyödyntänyt sitä aiemmin lähinnä siten, että minulle on annettu valmiit arvot, jotka sijoittaa kaavaan. Nyt sain kuitenkin paremman ymmärryksen siitä, miten klusterit muodostetaan ja miten klustereiden määrä tulisi päättää. "
   ]
  },
  {
   "cell_type": "markdown",
   "id": "7b1c3084",
   "metadata": {},
   "source": [
    "Luennon jälkimmäisellä puolikkaalla käytiin läpi luonnollisen kielen analyysiä sekä aihemallinnusta. Käytännössä käytiin siis läpi sitä, miten dokumenttikokoelmasta voidaan löytää aiheita, jotka esiintyvät useissa dokumenteissa samassa kontekstissa. Mielestäni tämä muistuttaa hyvin paljon ryvästämistä. Molemmissa etsitään yhteisiä tekijöitä tietylle joukolle piirteitä. Nämä piirteet vaan ovat erilaisia. Mielestäni ryvästämiseen käytetty koodi oli kuitenkin huomattavasti helpompaa ymmärtää ja näin ollen myös helpompi toteuttaa. Ryvästämisen ja aiheanalyysin toteuttamisesta on mielestäni mukava nähdä luennolla käytyjä esimerkkejä, sillä usealla tietojohtamisen kurssilla on käyty läpi vastaavia teknologioita, mutta lähinnä sillä tasolla, että niitä on olemassa ja voi halutessaan niihin paneutua. "
   ]
  },
  {
   "cell_type": "markdown",
   "id": "d533284c",
   "metadata": {},
   "source": [
    "Tämän viikon koodiklinikassa käytiin tosiaan läpi ostoskori- sekä verkostoanalyysiä. Lähinnä opin koodiklinkan avulla erilaisia komentoja, joita tulen käsittelemään viikon demossa. Mielenkiintoista oli kuitenkin kuulla myös, miten Apriori algoritmin avulla voidaan löytää kolmelaisia riippuvuuksia. "
   ]
  },
  {
   "cell_type": "markdown",
   "id": "d10115cb",
   "metadata": {},
   "source": [
    "## Viisi oivallusta / tärkeintä vinkkiä"
   ]
  },
  {
   "cell_type": "markdown",
   "id": "31a1bc28",
   "metadata": {},
   "source": [
    "* Ryvästäminen = klusterointi\n",
    "* Ohjaamaton oppiminen eroaa ohjatusta siten, että ennustettavaa piirrettä ei olla päätetty etukäteen\n",
    "* Täysin ohjaamatonta oppimista ei pysty suorittamaan\n",
    "* Lähes jokaisella kurssilla vastaan tullut fakta siitä, miten analyysi voi parhaimillaankin olla vain yhtä hyvää, kun siinä käytetty data\n",
    "* Analyysit usein ainakin jonkin verran subjektiivisia"
   ]
  },
  {
   "cell_type": "markdown",
   "id": "1b8226de",
   "metadata": {},
   "source": [
    "## Kehityskohteita / flippausvinkkejä"
   ]
  },
  {
   "cell_type": "markdown",
   "id": "cf14cfb2",
   "metadata": {},
   "source": [
    "Mielestäni viikon esilukemisto olisi voinut sopia johonkin toiseen viikkoon hieman paremmin. Asiasta on keskusteltu jo kurssin alusta lähtien ja mielestäni jopa enemmän, kuin tällä viikolla käsiteltiin."
   ]
  },
  {
   "cell_type": "markdown",
   "id": "bd7df60a",
   "metadata": {},
   "source": [
    "## Demo viikon aikana oppimastani"
   ]
  },
  {
   "cell_type": "markdown",
   "id": "6ec843b9",
   "metadata": {},
   "source": [
    "Käyn ensin läpi luennolla oppimiani komentoja. Ensimmäinen uusi luennolla tullut asia oli, miten pystyy tarkastelemaan dataframesta vain niitä rivejä, jotka sisältävät tyhjäarvoja:"
   ]
  },
  {
   "cell_type": "code",
   "execution_count": null,
   "id": "e5bc1ea6",
   "metadata": {},
   "outputs": [],
   "source": [
    "dataframe[dataframe.isnull().any(axis=1)]"
   ]
  },
  {
   "cell_type": "markdown",
   "id": "4735cea3",
   "metadata": {},
   "source": [
    "Toinen luennolla uutena tullut asia oli minmax normalisointi. Se voidaan suorittaa dataframelle seuraavasti:"
   ]
  },
  {
   "cell_type": "code",
   "execution_count": null,
   "id": "e6162ba9",
   "metadata": {},
   "outputs": [],
   "source": [
    "minmax = preprocessing.MinMaxScaler().fit_transform(dataframe)\n",
    "dataframe_normalized = pd.DataFrame(minmax, index=dataframe.index, columns=dataframe.columns)"
   ]
  },
  {
   "cell_type": "markdown",
   "id": "2eb5d67d",
   "metadata": {},
   "source": [
    "Luennolla käytiin läpi myös klusterointia. Mikäli halutaan jakaa dataframe esimerkiksi viiteen klusteriin, onnistuu se seuraavasti (hyödyntäen Kmeans klusterointia):"
   ]
  },
  {
   "cell_type": "code",
   "execution_count": null,
   "id": "07a4b37b",
   "metadata": {},
   "outputs": [],
   "source": [
    "kmeans = KMeans(n_clusters=5)\n",
    "kmeans.fit(dataframe)"
   ]
  },
  {
   "cell_type": "markdown",
   "id": "ad67e0dc",
   "metadata": {},
   "source": [
    "Luennolla käytiin läpi vielä luennollisen kielen analyysiä, mutta koodi oli sen verran haastavaa, etten voi sanoa oppineeni sitä. Tämän seurauksena siirrytään seuraavaksi koodiklinikan pariin. Koodiklinikassa ryhmiteltiin aineisto ja tämän jälkeen tutkittiin ostoskoritottumuksia eli mitä asiakas todennäköisesti ostaa, jos on ostanut jo muita tuotteita. Ymmärsin ryhmittelyn oikein hyvin, mutta sääntöjen luomisessa en ymmärtänyt täysin kaikkia kohtia. Näin se kuitenkin toteutettiin (ryhmittely tässä esimerkissä asiakkaan mukaan ja tarkasteltavat tiedot sarakkeessa product):"
   ]
  },
  {
   "cell_type": "code",
   "execution_count": null,
   "id": "c437d50c",
   "metadata": {},
   "outputs": [],
   "source": [
    "grouped_transac = df.groupby('customer').agg(list)\n",
    "transactions = grouped_transac['product'].apply(lambda t_list: tuple([x.strip(' .') for x in t_list])).tolist()\n",
    "%time itemsets, rules = apriori(transactions, min_support=0.007, min_confidence=0.70, verbosity=1)"
   ]
  },
  {
   "cell_type": "markdown",
   "id": "7e07fbf8",
   "metadata": {},
   "source": [
    "Tämän jälkeen säännöistä muodostettiin verkosto eli selvitettiin, miten säännöt liittyvät toisiinsa. Tätä kohtaa en täysin ymmärtänyt (ymmärsin kyllä, mitä koodilla tehdään, mutten kaikkia komentoja) eli se on kopioitu suoraan koodiklinikasta:"
   ]
  },
  {
   "cell_type": "code",
   "execution_count": null,
   "id": "e5d6d9d7",
   "metadata": {},
   "outputs": [],
   "source": [
    "network = nx.DiGraph()\n",
    "all_rules = []\n",
    "for n, rule in enumerate(rules[-100:]):\n",
    "    rule_label = \"rule {}\".format(n)\n",
    "    all_rules.append(rule_label)\n",
    "    network.add_node(rule_label, lift=rule.lift)\n",
    "    network.add_edges_from([(item, rule_label) for item in rule.lhs])\n",
    "    network.add_edges_from([(rule_label, item) for item in rule.rhs])"
   ]
  },
  {
   "cell_type": "markdown",
   "id": "2dd4fd5b",
   "metadata": {},
   "source": [
    "## Lähteet"
   ]
  },
  {
   "cell_type": "markdown",
   "id": "7658530b",
   "metadata": {},
   "source": [
    "Padget, C. M. (2021). Managing Known And Unknown Unknowns. Saatavilla www-muodossa: https://www.forbes.com/sites/forbesbooksauthors/2021/06/21/managing-known-and-unknown-unknowns/?sh=40ad172ad02e (Luettu 20.04.2022)"
   ]
  }
 ],
 "metadata": {
  "kernelspec": {
   "display_name": "Python 3 (ipykernel)",
   "language": "python",
   "name": "python3"
  },
  "language_info": {
   "codemirror_mode": {
    "name": "ipython",
    "version": 3
   },
   "file_extension": ".py",
   "mimetype": "text/x-python",
   "name": "python",
   "nbconvert_exporter": "python",
   "pygments_lexer": "ipython3",
   "version": "3.9.7"
  }
 },
 "nbformat": 4,
 "nbformat_minor": 5
}
