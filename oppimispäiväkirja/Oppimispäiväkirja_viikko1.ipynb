{
 "cells": [
  {
   "cell_type": "markdown",
   "id": "bb373d52",
   "metadata": {},
   "source": [
    "# Viikko 1"
   ]
  },
  {
   "cell_type": "markdown",
   "id": "83e84cf4",
   "metadata": {},
   "source": [
    "## Osallistuminen opetukseen"
   ]
  },
  {
   "cell_type": "markdown",
   "id": "975f2f2c",
   "metadata": {},
   "source": [
    "Osallistuin tällä viikolla luonnolle sekä koodiklinikkaan. Kirjoitankin tämän viikon oppimispäiväkirjan näiden molempien tilaisuuksien pohjalta. Alussa keskityn enemmän luentoon ja koodidemon kohdalla sitten enemmän koodiklinikan tarjoamiin oppeihin."
   ]
  },
  {
   "cell_type": "markdown",
   "id": "82fa5255",
   "metadata": {},
   "source": [
    "## Luentoviikon keskeiset asiat"
   ]
  },
  {
   "cell_type": "markdown",
   "id": "760ccd65",
   "metadata": {},
   "source": [
    "Tällä viikolla opetuksen pääpaino oli kurssin yleisissä käytänteissä, kurssilla käytettävissä teknologioissa sekä data scientistin roolissa. Tällä viikolla ei tullutkaan varsinaisesti uusia oppeja, vaan ennemminkin vain selvempi kuva kurssin etenemisestä. Pohdin tässä oppimispäiväkirjan luvussa ensin kurssin käytäntöjä ja niiden toimivuutta, tämän jälkeen käyn läpi näkemyksiäni kurssilla käytetyistä teknologioista ja lopuksi pohdin data scientistin roolia. "
   ]
  },
  {
   "cell_type": "markdown",
   "id": "fc24a9d0",
   "metadata": {},
   "source": [
    "Kurssi suoritetaan oppimispäiväkirjan ja harjoitustyön avulla, eikä tässä ole tenttiä ollenkaan. Lähtökohtaisesti pidän tälläistä lähestymistapaa hyvänä, vaikkakin aika työläänä. Olen kuitenkin huomannut, että oppimispäiväkirjan ja harjoitustyön avulla opin itse paljon enemmän kuin tenttejä tekemällä. Luentojen ja koodiklinikan pitäminen lähiopetuksena on mukavaa pitkän etäilyn jälkeen. Valitettavasti ainakin näin ensimmäisellä viikolla paikalla oli hyvin vähän opiskelijoita, minkä seurauksena esimerkiksi kysymyksiä esitettiin hyvin vähän. Tämä on harmillista, koska kysymyksistä oppii aina lähes kaikki eikä pelkästään kysyjä."
   ]
  },
  {
   "cell_type": "markdown",
   "id": "143c1bce",
   "metadata": {},
   "source": [
    "Kurssilla oppimispäiväkirjan tekniseen toteutukseen annettiin aika vapaat kädet. Suositus kuitenkin oli, että se kirjoitetaan Jupyter Notebookilla ja jaetaan esimerkiksi githubilla. Jupyter Notebookin käyttö oli minulle jo ennestään tuttua, joten päätin tämän oppimispäiväkirjan sillä myös toteuttaa. Olen saanut kokemusta Jupyter Notebookin ja Pythonin kirjastojen, kuten pandasin, käytöstä hieman sattumalta. Olin kerran työhaastattelussa Power BI -rooliin, mutta kyseisellä organisaatiolla ei ollut tarjota Power BI:hin liittyvää rekrytehtävää, joten he antoivat minulle time series tehtävän tehtäväksi pythonilla. Eihän siitä yhtään mitään tullut, mutta mielenkiinto pythonin eri datakirjastoja kohtaan syntyi. Ostinkin tämän jälkeen netistä erään kurssin, jossa käytiin läpi muun muassa numphya, pandasia ja matplotlibiä. En kurssia ehtinyt kokonaan käymään, kun löysin töitä, eikä aikaa enää jäänyt sen kurssin käymiseen. Sain kuitenkin paremman kuvan eri kirjastoista ja siitä on varmasti apua tällä kurssilla. Latasin tällöin myös Anacondan koneelleni, joten sekin löytyi jo kurssin alkaessa. Githubia en ole ennen käyttänyt, mutta Tampereen yliopiston Gitlabia kylläkin. On siis mielenkiintoista päästä kokeilemaan myös Githubin toimintaa."
   ]
  },
  {
   "cell_type": "markdown",
   "id": "55695fbc",
   "metadata": {},
   "source": [
    "Luennolla käsiteltiin melko kattavastikin, mitä tarkoitetaan data scientistillä. Eri työnkuvat datan ympärillä (esimerkiksi data engineer ja data scientist) ovat minulle jo entuudestaan tuttuja, koska näitä on käsitelty lukuisilla tietojohtamisen kursseilla. Ehkä kuitenkin eniten asiaan paneuduttiin kurssilla Basics for business data analytics. Aiempien kurssien perusteella minulle on jäänyt kuva, että data scientistin roolissa tulee osata hyvin paljon kaikkea. Tämän viikon luento vain vahvisti tätä ajatusta. Luennolla käsiteltiin, miten data scientistin tulee osata kommunikoida, ymmärtää tilastotiedettä, osata ohjelmoida sekä ymmärtää liiketoimintaympäristöä. Todellisuudessahan tälläisiä ihmisiä on varmasti todella vähän ja mikäli sellainen on, saa varmasti ihan mukavasti palkkaa. Data scientistin roolin esittely oli kuitenkin siinä mielessä loistava, että se loi selkeän kuvan siitä, ettei esimerkiksi pelkkä koodaustaito riitä, mikäli haluaa data scientistinä työskennellä."
   ]
  },
  {
   "cell_type": "markdown",
   "id": "56e0589e",
   "metadata": {},
   "source": [
    "## Viisi oivallusta / tärkeintä oppia"
   ]
  },
  {
   "cell_type": "markdown",
   "id": "eb5ff3dd",
   "metadata": {},
   "source": [
    "* Data scientistin rooli on hyvin monimuotoinen.\n",
    "* Kurssi tulee loistavasti syventämään jo osaamiani asioita.\n",
    "* Yliopistolla on sittenkin kurssi, joka käsittelee pythonin datakirjastoja. Luulin, ettei olisi.\n",
    "* Jupyter Notebook taipuu hyvin myös muistiinpanojen/tekstin kirjoittamiseen.\n",
    "* Data Scientistillä on nykyään käytössään erittäin laaja valikoima erilaisia työkaluja."
   ]
  },
  {
   "cell_type": "markdown",
   "id": "266a79c0",
   "metadata": {},
   "source": [
    "## Kehityskohteita / flippausvinkkejä"
   ]
  },
  {
   "cell_type": "markdown",
   "id": "f8b7b361",
   "metadata": {},
   "source": [
    "* Opiskelijoita voisi jotenkin houkutella osallistumaan luennoille, jotta saataisiin paremmin keskustelua aikaiseksi.\n",
    "* Ennen kurssin alkua voisi jo lähettää sähköpostin, jossa kerrottaisiin, millaisia työkaluja kurssilla tullaan käyttämään. Tällä tavoin opiskelijat voisivat ladata esimerkiksi Anacondan valmiiksi ja hyödyntää sitä jo ensimmäisen luennon aikana."
   ]
  },
  {
   "cell_type": "markdown",
   "id": "226d596b",
   "metadata": {},
   "source": [
    "## Keskeiset oppimistavoitteet kurssille"
   ]
  },
  {
   "cell_type": "markdown",
   "id": "071a03fa",
   "metadata": {},
   "source": [
    "* Jupyter Notebookin parempi hallinta\n",
    "* Githubin käytön opettelu\n",
    "* Parempi osaaminen pythonin datakirjastoista\n",
    "* Parempi ymmärrys datan ja laskennallisen analytiikan arvosta organisaation päätöksenteossa ja kehittämisessä"
   ]
  },
  {
   "cell_type": "markdown",
   "id": "c9c07097",
   "metadata": {},
   "source": [
    "## Demo viikon aikana oppimastani"
   ]
  },
  {
   "cell_type": "markdown",
   "id": "486ceb96",
   "metadata": {},
   "source": [
    "Tällä viikolla keskityn demossa koodiklinikkaan, koska luennolla ei juurikaan koodia kirjoitettu. Tällä viikolla ei muutenkaan tullut juurikaan itselle mitään uutta. Huomasin myös koodiklinikassa läpikäydyssä koodissa virheen lastweek-funktiossa ja keskustelimmekin aiheesta assarin kanssa. "
   ]
  },
  {
   "cell_type": "markdown",
   "id": "57a401fd",
   "metadata": {},
   "source": [
    "Luennolla tuli yksi uusi asia koodin muodossa ja se oli HTML:n hyödyntäminen. Seuraavassa onkin esimerkki oppimastani:"
   ]
  },
  {
   "cell_type": "code",
   "execution_count": 5,
   "id": "db6e159e",
   "metadata": {},
   "outputs": [
    {
     "data": {
      "text/html": [
       "<iframe width=\"560\" height=\"315\" src=\"https://www.youtube.com/embed/xC-c7E5PK0Y\" title=\"YouTube video player\" frameborder=\"0\" allow=\"accelerometer; autoplay; clipboard-write; encrypted-media; gyroscope; picture-in-picture\" allowfullscreen></iframe>"
      ],
      "text/plain": [
       "<IPython.core.display.HTML object>"
      ]
     },
     "execution_count": 5,
     "metadata": {},
     "output_type": "execute_result"
    }
   ],
   "source": [
    "from IPython.core.display import HTML\n",
    "HTML('<iframe width=\"560\" height=\"315\" src=\"https://www.youtube.com/embed/xC-c7E5PK0Y\" title=\"YouTube video player\" frameborder=\"0\" allow=\"accelerometer; autoplay; clipboard-write; encrypted-media; gyroscope; picture-in-picture\" allowfullscreen></iframe>')\n"
   ]
  },
  {
   "cell_type": "markdown",
   "id": "2a8103af",
   "metadata": {},
   "source": [
    "Koodiklinikassa uutta oli lambda-funktion käyttö. Olen kyllä ollut siitä tietoinen, mutten ole koskaan sitä itse hyödyntänyt. Esimerkki lambda-funktion käytöstä:"
   ]
  },
  {
   "cell_type": "code",
   "execution_count": null,
   "id": "71ec8f4d",
   "metadata": {},
   "outputs": [],
   "source": [
    "lower = lambda x: x.lower()"
   ]
  },
  {
   "cell_type": "markdown",
   "id": "c9fb2776",
   "metadata": {},
   "source": [
    "Toinen uusi asia oli apply-funktion käyttö. Esimerkki siitä:"
   ]
  },
  {
   "cell_type": "code",
   "execution_count": null,
   "id": "9996da26",
   "metadata": {},
   "outputs": [],
   "source": [
    "test[\"name_of_the_column\"] = test[\"name_of_the_column\"].apply(lower)"
   ]
  },
  {
   "cell_type": "markdown",
   "id": "a168972c",
   "metadata": {},
   "source": [
    "Opin koodiklinikassa myös, miten dataframe talletetaan csv-tiedotoksi. Esimerkiksi näin:"
   ]
  },
  {
   "cell_type": "code",
   "execution_count": null,
   "id": "69137fb2",
   "metadata": {},
   "outputs": [],
   "source": [
    "test_result.to_csv('test_result_dataframe.csv', encoding='utf8')"
   ]
  },
  {
   "cell_type": "markdown",
   "id": "cb00099b",
   "metadata": {},
   "source": [
    "Viimeisenä tässä demossa esittelen Timestamp- ja Timedelta-funktioiden toimintaa. Nämä funktiot olivat itselle uusia ja niitä voi käyttää esimerkiksi seuraavasti:"
   ]
  },
  {
   "cell_type": "code",
   "execution_count": null,
   "id": "e19a36ca",
   "metadata": {},
   "outputs": [],
   "source": [
    "date = pd.Timestamp(2010, 6, 10)\n",
    "date_difference = pd.Timedelta(date-x).days"
   ]
  },
  {
   "cell_type": "markdown",
   "id": "44edd9ad",
   "metadata": {},
   "source": [
    "Edellisessä esimerkissä luodaan päivämäärä 10.06.2010 ja sitten verrataan sitä annettuun päivämäärään x. Muuttuja date_difference kertoo, kuinka monta päivää eroa on muuttujalla date ja annetulla päivämäärällä x."
   ]
  }
 ],
 "metadata": {
  "kernelspec": {
   "display_name": "Python 3 (ipykernel)",
   "language": "python",
   "name": "python3"
  },
  "language_info": {
   "codemirror_mode": {
    "name": "ipython",
    "version": 3
   },
   "file_extension": ".py",
   "mimetype": "text/x-python",
   "name": "python",
   "nbconvert_exporter": "python",
   "pygments_lexer": "ipython3",
   "version": "3.9.7"
  }
 },
 "nbformat": 4,
 "nbformat_minor": 5
}
